{
 "cells": [
  {
   "cell_type": "markdown",
   "metadata": {},
   "source": [
    "# This is the code to accompany the Lesson 2 (SVM) mini-project\n",
    "\n",
    "### Use a SVM to identify emails from the Enron corpus by their authors\n",
    "\n",
    "authors and labels:\n",
    "- Sara has label `0`\n",
    "- Chris has label `1`"
   ]
  },
  {
   "cell_type": "code",
   "execution_count": 34,
   "metadata": {},
   "outputs": [],
   "source": [
    "import sys\n",
    "from time import time\n",
    "sys.path.append('../utils/')\n",
    "\n",
    "from email_preprocess import preprocess"
   ]
  },
  {
   "cell_type": "markdown",
   "metadata": {},
   "source": [
    "- `features_train` and `features_test` are the features for the training and testing datasets, respectively\n",
    "- `labels_train` and `labels_test` are the corresponding item labels"
   ]
  },
  {
   "cell_type": "code",
   "execution_count": 35,
   "metadata": {},
   "outputs": [
    {
     "name": "stdout",
     "output_type": "stream",
     "text": [
      "no. of Chris training emails: 7936\n",
      "no. of Sara training emails: 7884\n"
     ]
    }
   ],
   "source": [
    "features_train, features_test, labels_train, labels_test = preprocess()\n",
    "# print(\"labels_train:\", labels_train)\n",
    "# print(\"labels_test:\", labels_test)"
   ]
  },
  {
   "cell_type": "markdown",
   "metadata": {},
   "source": [
    "## ↓↓↓ Your Code Goes Here ↓↓↓"
   ]
  },
  {
   "cell_type": "code",
   "execution_count": 36,
   "metadata": {},
   "outputs": [],
   "source": [
    "# import the support vector classifier module\n",
    "from sklearn.svm import SVC"
   ]
  },
  {
   "cell_type": "code",
   "execution_count": 4,
   "metadata": {},
   "outputs": [
    {
     "name": "stdout",
     "output_type": "stream",
     "text": [
      "SVC(C=1.0, break_ties=False, cache_size=200, class_weight=None, coef0=0.0,\n",
      "    decision_function_shape='ovr', degree=3, gamma='scale', kernel='linear',\n",
      "    max_iter=-1, probability=False, random_state=None, shrinking=True,\n",
      "    tol=0.001, verbose=False)\n"
     ]
    }
   ],
   "source": [
    "# create the classifier as an instance of SVC\n",
    "clf = SVC(kernel=\"linear\")\n",
    "print(clf)"
   ]
  },
  {
   "cell_type": "code",
   "execution_count": 5,
   "metadata": {},
   "outputs": [],
   "source": [
    "# train the classifier (features, labels) and check its runtime\n",
    "t0 = time()\n",
    "# features_train = features_train[:len(features_train)//100]\n",
    "# labels_train = labels_train[:len(labels_train)//100]\n",
    "clf.fit(features_train, labels_train)\n",
    "training_time = round(time() - t0, 3)"
   ]
  },
  {
   "cell_type": "code",
   "execution_count": 6,
   "metadata": {},
   "outputs": [],
   "source": [
    "# make predictions for the test features and check its runtime\n",
    "t1 = time()\n",
    "pred = clf.predict(features_test)\n",
    "pred_time = round(time() - t1, 3)"
   ]
  },
  {
   "cell_type": "code",
   "execution_count": 7,
   "metadata": {},
   "outputs": [
    {
     "name": "stdout",
     "output_type": "stream",
     "text": [
      "accuracy: 0.9840728100113766\n",
      "model training time: 404.044\n",
      "model prediction time: 35.618\n"
     ]
    }
   ],
   "source": [
    "# check accuracy of predictions and time\n",
    "from sklearn.metrics import accuracy_score as acc_sco\n",
    "print(\"accuracy:\", acc_sco(labels_test, pred))\n",
    "print(\"model training time:\", training_time)\n",
    "print(\"model prediction time:\", pred_time)"
   ]
  },
  {
   "cell_type": "code",
   "execution_count": 18,
   "metadata": {},
   "outputs": [
    {
     "name": "stdout",
     "output_type": "stream",
     "text": [
      "small_labels_train: [0, 1, 0, 1, 1, 1, 0, 0, 1, 0, 1, 0, 1, 0, 0, 1, 1, 0, 1, 1, 0, 0, 1, 1, 0, 1, 1, 1, 1, 1, 0, 0, 0, 1, 0, 1, 1, 0, 0, 0, 1, 0, 1, 1, 0, 0, 0, 1, 0, 0, 1, 0, 1, 1, 1, 1, 0, 1, 0, 0, 0, 0, 0, 0, 1, 0, 1, 1, 1, 0, 0, 1, 1, 1, 1, 0, 1, 0, 1, 1, 1, 0, 0, 1, 0, 1, 1, 1, 0, 1, 0, 1, 1, 1, 0, 0, 1, 1, 0, 1, 0, 0, 0, 0, 0, 1, 1, 0, 1, 0, 1, 1, 0, 0, 0, 1, 1, 1, 1, 1, 1, 0, 1, 0, 0, 0, 1, 1, 0, 0, 1, 1, 0, 0, 0, 1, 1, 0, 1, 0, 1, 0, 0, 0, 0, 0, 0, 1, 0, 0, 0, 1, 0, 0, 1, 0, 1, 1]\n"
     ]
    }
   ],
   "source": [
    "# now train the classifier, but with only 1% of the dataset\n",
    "small_features_train = features_train[:(len(features_train)//100)]\n",
    "small_labels_train = labels_train[:(len(labels_train)//100)]\n",
    "print(\"small_labels_train:\", small_labels_train)\n",
    "t_small_data = time()\n",
    "clf.fit(small_features_train, small_labels_train)\n",
    "small_data_train_time = round(time() - t_small_data, 3)"
   ]
  },
  {
   "cell_type": "code",
   "execution_count": 10,
   "metadata": {},
   "outputs": [],
   "source": [
    "# make predictions and check timing\n",
    "t2_small_data = time()\n",
    "pred = clf.predict(features_test)\n",
    "pred_time = round(time() - t2_small_data, 3)"
   ]
  },
  {
   "cell_type": "code",
   "execution_count": 11,
   "metadata": {},
   "outputs": [
    {
     "name": "stdout",
     "output_type": "stream",
     "text": [
      "accuracy: 0.8845278725824801\n",
      "model training time: 0.24\n",
      "model prediction time: 2.438\n"
     ]
    }
   ],
   "source": [
    "# check accuracy of small data predictions and time\n",
    "# from sklearn.metrics import accuracy_score as acc_sco\n",
    "print(\"accuracy:\", acc_sco(labels_test, pred))\n",
    "print(\"model training time:\", small_data_train_time)\n",
    "print(\"model prediction time:\", pred_time)"
   ]
  },
  {
   "cell_type": "code",
   "execution_count": null,
   "metadata": {},
   "outputs": [],
   "source": []
  },
  {
   "cell_type": "code",
   "execution_count": 37,
   "metadata": {},
   "outputs": [
    {
     "name": "stdout",
     "output_type": "stream",
     "text": [
      "labels: [0, 1, 0, 1, 1, 1, 0, 0, 1, 0, 1, 0, 1, 0, 0, 1, 1, 0, 1, 1, 0, 0, 1, 1, 0, 1, 1, 1, 1, 1, 0, 0, 0, 1, 0, 1, 1, 0, 0, 0, 1, 0, 1, 1, 0, 0, 0, 1, 0, 0, 1, 0, 1, 1, 1, 1, 0, 1, 0, 0, 0, 0, 0, 0, 1, 0, 1, 1, 1, 0, 0, 1, 1, 1, 1, 0, 1, 0, 1, 1, 1, 0, 0, 1, 0, 1, 1, 1, 0, 1, 0, 1, 1, 1, 0, 0, 1, 1, 0, 1, 0, 0, 0, 0, 0, 1, 1, 0, 1, 0, 1, 1, 0, 0, 0, 1, 1, 1, 1, 1, 1, 0, 1, 0, 0, 0, 1, 1, 0, 0, 1, 1, 0, 0, 0, 1, 1, 0, 1, 0, 1, 0, 0, 0, 0, 0, 0, 1, 0, 0, 0, 1, 0, 0, 1, 0, 1, 1]\n"
     ]
    }
   ],
   "source": [
    "# now train the small_data classifier, but with an rbf kernel\n",
    "clf = SVC(kernel=\"rbf\", C=10000)\n",
    "rbf_features_train = features_train[:len(features_train)//100]\n",
    "rbf_labels_train = labels_train[:len(labels_train)//100]\n",
    "print(\"labels:\", rbf_labels_train)\n",
    "t4 = time()\n",
    "clf.fit(rbf_features_train, rbf_labels_train)\n",
    "rbf_train_time = round(time() - t4, 3)"
   ]
  },
  {
   "cell_type": "code",
   "execution_count": 38,
   "metadata": {},
   "outputs": [],
   "source": [
    "# make predictions and check timing\n",
    "t5 = time()\n",
    "pred = clf.predict(features_test)\n",
    "pred_time = round(time() - t5, 3)"
   ]
  },
  {
   "cell_type": "code",
   "execution_count": 39,
   "metadata": {},
   "outputs": [
    {
     "name": "stdout",
     "output_type": "stream",
     "text": [
      "accuracy: 0.8998862343572241\n",
      "model training time: 0.266\n",
      "model prediction time: 2.682\n"
     ]
    }
   ],
   "source": [
    "# check accuracy of rbf predictions and time\n",
    "from sklearn.metrics import accuracy_score as acc_sco\n",
    "print(\"accuracy:\", acc_sco(labels_test, pred))\n",
    "print(\"model training time:\", rbf_train_time)\n",
    "print(\"model prediction time:\", pred_time)"
   ]
  },
  {
   "cell_type": "code",
   "execution_count": null,
   "metadata": {},
   "outputs": [],
   "source": []
  },
  {
   "cell_type": "code",
   "execution_count": 32,
   "metadata": {},
   "outputs": [
    {
     "name": "stdout",
     "output_type": "stream",
     "text": [
      "training time: 0.238 s\n",
      "963\n",
      "prediction time: 3.001 s\n",
      "accuracy: 0.8953356086461889\n"
     ]
    }
   ],
   "source": [
    "# trying again\n",
    "clf = SVC(kernel = 'rbf', C=1)\n",
    "features_train = features_train[:(len(features_train)//100)]\n",
    "labels_train = labels_train[:(len(labels_train)//100)]\n",
    "t0 = time()\n",
    "clf.fit(features_train, labels_train)\n",
    "print(\"training time:\", round(time()-t0, 3), \"s\")\n",
    "t1 = time()\n",
    "print(sum(clf.predict(features_test) ==1))\n",
    "print(\"prediction time:\", round(time()-t0, 3), \"s\")\n",
    "print(\"accuracy:\", clf.score(features_test, labels_test))"
   ]
  },
  {
   "cell_type": "code",
   "execution_count": null,
   "metadata": {},
   "outputs": [],
   "source": []
  },
  {
   "cell_type": "code",
   "execution_count": 40,
   "metadata": {},
   "outputs": [
    {
     "name": "stdout",
     "output_type": "stream",
     "text": [
      "accuracy: 0.9960182025028441\n",
      "model training time: 406.401\n",
      "model prediction time: 44.372\n"
     ]
    }
   ],
   "source": [
    "# now use an RBF kernel but with the full corpus\n",
    "clf = SVC(kernel = \"rbf\", C = 10000)\n",
    "t0 = time()\n",
    "clf.fit(features_train, labels_train)\n",
    "train_time = round(time() - t0, 3)\n",
    "\n",
    "t0 = time()\n",
    "pred = clf.predict(features_test)\n",
    "pred_time = round(time() - t0, 3)\n",
    "\n",
    "# check accuracy of full corpus rbf predictions and time\n",
    "from sklearn.metrics import accuracy_score as acc_sco\n",
    "print(\"accuracy:\", acc_sco(labels_test, pred))\n",
    "print(\"model training time:\", train_time)\n",
    "print(\"model prediction time:\", pred_time)\n"
   ]
  },
  {
   "cell_type": "code",
   "execution_count": null,
   "metadata": {},
   "outputs": [],
   "source": []
  },
  {
   "cell_type": "code",
   "execution_count": 41,
   "metadata": {},
   "outputs": [
    {
     "name": "stdout",
     "output_type": "stream",
     "text": [
      "no. of Chris training emails: 7936\n",
      "no. of Sara training emails: 7884\n",
      "pred 10: 1\n",
      "pred 26: 0\n",
      "pred 50: 1\n"
     ]
    }
   ],
   "source": [
    "# now look at specific predictions\n",
    "features_train, features_test, labels_train, labels_test = preprocess()\n",
    "clf = SVC(kernel=\"rbf\", C=10000)\n",
    "features_train = features_train[:len(features_train)//100]\n",
    "labels_train = labels_train[:len(labels_train)//100]\n",
    "clf.fit(features_train, labels_train)\n",
    "pred = clf.predict(features_test)\n",
    "print(\"pred 10:\", pred[10])\n",
    "print(\"pred 26:\", pred[26])\n",
    "print(\"pred 50:\", pred[50])"
   ]
  },
  {
   "cell_type": "code",
   "execution_count": null,
   "metadata": {},
   "outputs": [],
   "source": []
  },
  {
   "cell_type": "code",
   "execution_count": 42,
   "metadata": {},
   "outputs": [
    {
     "name": "stdout",
     "output_type": "stream",
     "text": [
      "no. of Chris training emails: 7936\n",
      "no. of Sara training emails: 7884\n",
      "866\n"
     ]
    }
   ],
   "source": [
    "# how many emails are predicted to be in Chris's class of the full test set?\n",
    "features_train, features_test, labels_train, labels_test = preprocess()\n",
    "clf = SVC(kernel=\"rbf\", C=10000)\n",
    "clf.fit(features_train, labels_train)\n",
    "pred = clf.predict(features_test)\n",
    "print(sum(pred))"
   ]
  },
  {
   "cell_type": "code",
   "execution_count": null,
   "metadata": {},
   "outputs": [],
   "source": []
  }
 ],
 "metadata": {
  "kernelspec": {
   "display_name": "Python 3",
   "language": "python",
   "name": "python3"
  },
  "language_info": {
   "codemirror_mode": {
    "name": "ipython",
    "version": 3
   },
   "file_extension": ".py",
   "mimetype": "text/x-python",
   "name": "python",
   "nbconvert_exporter": "python",
   "pygments_lexer": "ipython3",
   "version": "3.7.6"
  }
 },
 "nbformat": 4,
 "nbformat_minor": 4
}
