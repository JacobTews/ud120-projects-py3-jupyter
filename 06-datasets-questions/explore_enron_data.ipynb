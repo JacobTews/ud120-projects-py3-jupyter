{
 "cells": [
  {
   "cell_type": "markdown",
   "metadata": {},
   "source": [
    "# Starter code for exploring the Enron dataset (emails + finances)\n",
    "\n",
    "Loads up the dataset (pickled dict of dicts)\n",
    "\n",
    "The dataset has the form: `enron_data[\"LASTNAME FIRSTNAME MIDDLEINITIAL\"] = { features_dict }`\n",
    "\n",
    "`{features_dict}` is a dictionary of features associated with that person.\n",
    "\n",
    "You should explore `features_dict` as part of the mini-project, but here's an example to get you started:\n",
    "\n",
    "`enron_data[\"SKILLING JEFFREY K\"][\"bonus\"] = 5600000`"
   ]
  },
  {
   "cell_type": "code",
   "execution_count": 4,
   "metadata": {},
   "outputs": [],
   "source": [
    "import pickle\n",
    "\n",
    "with open('../17-final-project/final_project_dataset_unix.pkl', 'rb') as f:\n",
    "    enron_data = pickle.load(f)"
   ]
  },
  {
   "cell_type": "markdown",
   "metadata": {},
   "source": [
    "## ↓↓↓ Your Code Goes Here ↓↓↓"
   ]
  },
  {
   "cell_type": "code",
   "execution_count": 5,
   "metadata": {},
   "outputs": [
    {
     "name": "stdout",
     "output_type": "stream",
     "text": [
      "146\n"
     ]
    }
   ],
   "source": [
    "# how many people are in the dataset?\n",
    "print(len(enron_data))"
   ]
  },
  {
   "cell_type": "code",
   "execution_count": 6,
   "metadata": {},
   "outputs": [
    {
     "name": "stdout",
     "output_type": "stream",
     "text": [
      "21\n"
     ]
    }
   ],
   "source": [
    "# how many features are available for each person?\n",
    "print(len(enron_data[\"LAY KENNETH L\"]))"
   ]
  },
  {
   "cell_type": "code",
   "execution_count": 7,
   "metadata": {},
   "outputs": [
    {
     "name": "stdout",
     "output_type": "stream",
     "text": [
      "18\n"
     ]
    }
   ],
   "source": [
    "# how many persons of interest in the dataset?\n",
    "poi = [k for k in enron_data if enron_data[k][\"poi\"] == 1]\n",
    "print(len(poi))"
   ]
  },
  {
   "cell_type": "code",
   "execution_count": 8,
   "metadata": {},
   "outputs": [
    {
     "name": "stdout",
     "output_type": "stream",
     "text": [
      "{'salary': 'NaN', 'to_messages': 'NaN', 'deferral_payments': 564348, 'total_payments': 564348, 'loan_advances': 'NaN', 'bonus': 'NaN', 'email_address': 'james.prentice@enron.com', 'restricted_stock_deferred': 'NaN', 'deferred_income': 'NaN', 'total_stock_value': 1095040, 'expenses': 'NaN', 'from_poi_to_this_person': 'NaN', 'exercised_stock_options': 886231, 'from_messages': 'NaN', 'other': 'NaN', 'from_this_person_to_poi': 'NaN', 'poi': False, 'long_term_incentive': 'NaN', 'shared_receipt_with_poi': 'NaN', 'restricted_stock': 208809, 'director_fees': 'NaN'}\n"
     ]
    }
   ],
   "source": [
    "# what is the value of stock belonging to James Prentice?\n",
    "print(enron_data[\"PRENTICE JAMES\"])"
   ]
  },
  {
   "cell_type": "code",
   "execution_count": 9,
   "metadata": {},
   "outputs": [
    {
     "name": "stdout",
     "output_type": "stream",
     "text": [
      "{'salary': 288542, 'to_messages': 1758, 'deferral_payments': 27610, 'total_payments': 1490344, 'loan_advances': 'NaN', 'bonus': 1200000, 'email_address': 'wes.colwell@enron.com', 'restricted_stock_deferred': 'NaN', 'deferred_income': -144062, 'total_stock_value': 698242, 'expenses': 16514, 'from_poi_to_this_person': 240, 'exercised_stock_options': 'NaN', 'from_messages': 40, 'other': 101740, 'from_this_person_to_poi': 11, 'poi': True, 'long_term_incentive': 'NaN', 'shared_receipt_with_poi': 1132, 'restricted_stock': 698242, 'director_fees': 'NaN'}\n"
     ]
    }
   ],
   "source": [
    "# how many messages from Wesley Colwell to poi?\n",
    "print(enron_data[\"COLWELL WESLEY\"])"
   ]
  },
  {
   "cell_type": "code",
   "execution_count": 10,
   "metadata": {},
   "outputs": [
    {
     "name": "stdout",
     "output_type": "stream",
     "text": [
      "{'salary': 1111258, 'to_messages': 3627, 'deferral_payments': 'NaN', 'total_payments': 8682716, 'loan_advances': 'NaN', 'bonus': 5600000, 'email_address': 'jeff.skilling@enron.com', 'restricted_stock_deferred': 'NaN', 'deferred_income': 'NaN', 'total_stock_value': 26093672, 'expenses': 29336, 'from_poi_to_this_person': 88, 'exercised_stock_options': 19250000, 'from_messages': 108, 'other': 22122, 'from_this_person_to_poi': 30, 'poi': True, 'long_term_incentive': 1920000, 'shared_receipt_with_poi': 2042, 'restricted_stock': 6843672, 'director_fees': 'NaN'}\n"
     ]
    }
   ],
   "source": [
    "# what’s the value of stock options exercised by Jeffrey K Skilling?\n",
    "print(enron_data[\"SKILLING JEFFREY K\"])"
   ]
  },
  {
   "cell_type": "code",
   "execution_count": 15,
   "metadata": {},
   "outputs": [
    {
     "name": "stdout",
     "output_type": "stream",
     "text": [
      "lay: 103559793\n",
      "skilling: 8682716\n",
      "fastow: 2424083\n"
     ]
    }
   ],
   "source": [
    "# of lay, skilling, and fastow, who took home the most money (total_payments feature)\n",
    "print(\"lay:\", enron_data[\"LAY KENNETH L\"][\"total_payments\"])\n",
    "print(\"skilling:\", enron_data[\"SKILLING JEFFREY K\"][\"total_payments\"])\n",
    "print(\"fastow:\", enron_data[\"FASTOW ANDREW S\"][\"total_payments\"])"
   ]
  },
  {
   "cell_type": "code",
   "execution_count": 17,
   "metadata": {},
   "outputs": [
    {
     "name": "stdout",
     "output_type": "stream",
     "text": [
      "salaries: 95\n",
      "emails: 111\n"
     ]
    }
   ],
   "source": [
    "# how many people in the dataset have a known salary?\n",
    "print(\"salaries:\", len([k for k in enron_data if enron_data[k][\"salary\"] != \"NaN\"]))\n",
    "\n",
    "# how many people have a known email address?\n",
    "print(\"emails:\", len([k for k in enron_data if enron_data[k][\"email_address\"] != \"NaN\"]))"
   ]
  },
  {
   "cell_type": "code",
   "execution_count": 18,
   "metadata": {},
   "outputs": [
    {
     "name": "stdout",
     "output_type": "stream",
     "text": [
      "payments missing: 21\n",
      "0.14383561643835616\n"
     ]
    }
   ],
   "source": [
    "# How many people in the E+F dataset (as it currently exists) have “NaN” for their total payments?\n",
    "missing_payments = len([k for k in enron_data if enron_data[k][\"total_payments\"] == \"NaN\"])\n",
    "print(\"payments missing:\", missing_payments)\n",
    "\n",
    "# What percentage of people in the dataset as a whole is this?\n",
    "print(missing_payments / 146)"
   ]
  },
  {
   "cell_type": "code",
   "execution_count": 19,
   "metadata": {},
   "outputs": [
    {
     "name": "stdout",
     "output_type": "stream",
     "text": [
      "poi payments missing: 0\n",
      "0.0\n"
     ]
    }
   ],
   "source": [
    "# How many POIs in the E+F dataset have “NaN” for their total payments?\n",
    "poi_missing_payments = len([k for k in enron_data if enron_data[k][\"poi\"] == True and enron_data[k][\"total_payments\"] == \"NaN\"])\n",
    "print(\"poi payments missing:\", poi_missing_payments)\n",
    "\n",
    "# What percentage of POI’s as a whole is this?\n",
    "total_pois = len([k for k in enron_data if enron_data[k][\"poi\"] == True])\n",
    "print(poi_missing_payments / total_pois)"
   ]
  },
  {
   "cell_type": "code",
   "execution_count": null,
   "metadata": {},
   "outputs": [],
   "source": []
  }
 ],
 "metadata": {
  "kernelspec": {
   "display_name": "Python 3",
   "language": "python",
   "name": "python3"
  },
  "language_info": {
   "codemirror_mode": {
    "name": "ipython",
    "version": 3
   },
   "file_extension": ".py",
   "mimetype": "text/x-python",
   "name": "python",
   "nbconvert_exporter": "python",
   "pygments_lexer": "ipython3",
   "version": "3.7.6"
  }
 },
 "nbformat": 4,
 "nbformat_minor": 4
}
