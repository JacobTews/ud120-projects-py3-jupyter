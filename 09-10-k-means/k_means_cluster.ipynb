{
 "cells": [
  {
   "cell_type": "markdown",
   "metadata": {},
   "source": [
    "# Starter Code for k-means Clustering and Feature Scaling Mini-Projects"
   ]
  },
  {
   "cell_type": "code",
   "execution_count": 1,
   "metadata": {},
   "outputs": [],
   "source": [
    "import sys\n",
    "import pickle\n",
    "\n",
    "import numpy as np\n",
    "import matplotlib.pyplot as plt\n",
    "\n",
    "sys.path.append('../utils/')\n",
    "\n",
    "from feature_format import feature_format, target_feature_split"
   ]
  },
  {
   "cell_type": "code",
   "execution_count": 64,
   "metadata": {},
   "outputs": [],
   "source": [
    "def draw(pred, features, poi, mark_poi=True, name='image.png', f1_name='feature 1', f2_name='feature 2'):\n",
    "    \"\"\"Some plotting code designed to help you visualize your clusters \"\"\"\n",
    "\n",
    "    # Plot each cluster with a different color--add more colors for\n",
    "    # drawing more than five clusters\n",
    "    colors = [\"b\", \"c\", \"k\", \"m\", \"g\"]\n",
    "    for ii, pp in enumerate(pred):\n",
    "        plt.scatter(features[ii][0], features[ii][1], color = colors[pred[ii]])\n",
    "\n",
    "    # If you like, place red stars over points that are POIs (just for funsies)\n",
    "    if mark_poi:\n",
    "        for ii, pp in enumerate(pred):\n",
    "            if poi[ii]:\n",
    "                plt.scatter(features[ii][0], features[ii][1], color=\"r\", marker=\"*\")\n",
    "    plt.xlabel(f1_name)\n",
    "    plt.ylabel(f2_name)\n",
    "    plt.savefig(name)\n",
    "    plt.show()"
   ]
  },
  {
   "cell_type": "markdown",
   "metadata": {},
   "source": [
    "**Load in the dict of dicts containing all the data on each person in the dataset**"
   ]
  },
  {
   "cell_type": "code",
   "execution_count": 65,
   "metadata": {},
   "outputs": [],
   "source": [
    "with open('../17-final-project/final_project_dataset_unix.pkl', 'rb') as f:\n",
    "    data_dict = pickle.load(f)"
   ]
  },
  {
   "cell_type": "markdown",
   "metadata": {},
   "source": [
    "**There's an outlier--remove it!**"
   ]
  },
  {
   "cell_type": "code",
   "execution_count": 66,
   "metadata": {},
   "outputs": [
    {
     "data": {
      "text/plain": [
       "{'salary': 26704229,\n",
       " 'to_messages': 'NaN',\n",
       " 'deferral_payments': 32083396,\n",
       " 'total_payments': 309886585,\n",
       " 'loan_advances': 83925000,\n",
       " 'bonus': 97343619,\n",
       " 'email_address': 'NaN',\n",
       " 'restricted_stock_deferred': -7576788,\n",
       " 'deferred_income': -27992891,\n",
       " 'total_stock_value': 434509511,\n",
       " 'expenses': 5235198,\n",
       " 'from_poi_to_this_person': 'NaN',\n",
       " 'exercised_stock_options': 311764000,\n",
       " 'from_messages': 'NaN',\n",
       " 'other': 42667589,\n",
       " 'from_this_person_to_poi': 'NaN',\n",
       " 'poi': False,\n",
       " 'long_term_incentive': 48521928,\n",
       " 'shared_receipt_with_poi': 'NaN',\n",
       " 'restricted_stock': 130322299,\n",
       " 'director_fees': 1398517}"
      ]
     },
     "execution_count": 66,
     "metadata": {},
     "output_type": "execute_result"
    }
   ],
   "source": [
    "data_dict.pop('TOTAL', 0)"
   ]
  },
  {
   "cell_type": "markdown",
   "metadata": {},
   "source": [
    "The input features we want to use can be any key in the person-level dictionary (`salary`, `director_fees`, etc.)"
   ]
  },
  {
   "cell_type": "code",
   "execution_count": 67,
   "metadata": {},
   "outputs": [],
   "source": [
    "feature_1 = 'salary'\n",
    "feature_2 = 'exercised_stock_options'\n",
    "feature_3 = \"total_payments\"\n",
    "poi = 'poi'\n",
    "\n",
    "features_list = [poi, feature_1, feature_2]\n",
    "data = feature_format(data_dict, features_list)\n",
    "poi, finance_features = target_feature_split(data)"
   ]
  },
  {
   "cell_type": "markdown",
   "metadata": {},
   "source": [
    "In the \"clustering with 3 features\" part of the mini-project, you'll want to change this line to for \n",
    "```python\n",
    "f1, f2, _ in finance_features:\n",
    "```\n",
    "as it's currently written, the line below assumes 2 features"
   ]
  },
  {
   "cell_type": "code",
   "execution_count": 68,
   "metadata": {},
   "outputs": [
    {
     "data": {
      "image/png": "[encoded data removed]",
      "text/plain": [
       "<Figure size 432x288 with 1 Axes>"
      ]
     },
     "metadata": {
      "needs_background": "light"
     },
     "output_type": "display_data"
    }
   ],
   "source": [
    "for f1, f2 in finance_features:\n",
    "    plt.scatter(f1, f2)\n",
    "\n",
    "plt.show()"
   ]
  },
  {
   "cell_type": "markdown",
   "metadata": {},
   "source": [
    "## ↓↓↓ Your Code Goes Here ↓↓↓"
   ]
  },
  {
   "cell_type": "markdown",
   "metadata": {},
   "source": [
    "Cluster here; create predictions of the cluster labels for the data and store them to a list called pred"
   ]
  },
  {
   "cell_type": "code",
   "execution_count": 69,
   "metadata": {},
   "outputs": [],
   "source": [
    "from sklearn.cluster import KMeans\n",
    "clf = KMeans(n_clusters=2)\n",
    "clf.fit(data)\n",
    "pred = clf.predict(data)"
   ]
  },
  {
   "cell_type": "markdown",
   "metadata": {},
   "source": [
    "Rename the `name` parameter when you change the number of features so that the figure gets saved to a different file"
   ]
  },
  {
   "cell_type": "code",
   "execution_count": 70,
   "metadata": {},
   "outputs": [
    {
     "data": {
      "image/png": "[encoded data removed]",
      "text/plain": [
       "<Figure size 432x288 with 1 Axes>"
      ]
     },
     "metadata": {
      "needs_background": "light"
     },
     "output_type": "display_data"
    }
   ],
   "source": [
    "try:\n",
    "    draw(pred, finance_features, poi, mark_poi=False, name=\"clusters.pdf\", f1_name=feature_1, f2_name=feature_2)\n",
    "except NameError:\n",
    "    print('No predictions object named pred found, no clusters to plot')"
   ]
  },
  {
   "cell_type": "code",
   "execution_count": 53,
   "metadata": {},
   "outputs": [
    {
     "name": "stdout",
     "output_type": "stream",
     "text": [
      "365788\n",
      "267102\n",
      "170941\n",
      "NaN\n",
      "243293\n",
      "267093\n",
      "NaN\n",
      "370448\n",
      "374125\n",
      "197091\n",
      "130724\n",
      "NaN\n",
      "248546\n",
      "257486\n",
      "NaN\n",
      "NaN\n",
      "288542\n",
      "251654\n",
      "288558\n",
      "63744\n",
      "NaN\n",
      "357091\n",
      "271442\n",
      "NaN\n",
      "NaN\n",
      "304110\n",
      "NaN\n",
      "187922\n",
      "NaN\n",
      "213625\n",
      "249201\n",
      "NaN\n",
      "231330\n",
      "NaN\n",
      "182245\n",
      "NaN\n",
      "211788\n",
      "NaN\n",
      "NaN\n",
      "NaN\n",
      "224305\n",
      "273746\n",
      "339288\n",
      "216582\n",
      "210500\n",
      "NaN\n",
      "NaN\n",
      "272880\n",
      "477\n",
      "NaN\n",
      "269076\n",
      "428780\n",
      "211844\n",
      "NaN\n",
      "206121\n",
      "174246\n",
      "510364\n",
      "365038\n",
      "NaN\n",
      "365163\n",
      "162779\n",
      "NaN\n",
      "236457\n",
      "NaN\n",
      "1072321\n",
      "261516\n",
      "329078\n",
      "NaN\n",
      "184899\n",
      "192008\n",
      "NaN\n",
      "262663\n",
      "304588\n",
      "NaN\n",
      "NaN\n",
      "278601\n",
      "NaN\n",
      "199157\n",
      "NaN\n",
      "96840\n",
      "80818\n",
      "213999\n",
      "262788\n",
      "210692\n",
      "222093\n",
      "440698\n",
      "NaN\n",
      "240189\n",
      "420636\n",
      "275101\n",
      "NaN\n",
      "314288\n",
      "94941\n",
      "NaN\n",
      "239502\n",
      "1111258\n",
      "NaN\n",
      "NaN\n",
      "NaN\n",
      "6615\n",
      "NaN\n",
      "288589\n",
      "404338\n",
      "NaN\n",
      "259996\n",
      "317543\n",
      "NaN\n",
      "201955\n",
      "248146\n",
      "NaN\n",
      "NaN\n",
      "NaN\n",
      "263413\n",
      "NaN\n",
      "76399\n",
      "655037\n",
      "NaN\n",
      "261809\n",
      "248017\n",
      "NaN\n",
      "229284\n",
      "231946\n",
      "221003\n",
      "158403\n",
      "NaN\n",
      "250100\n",
      "492375\n",
      "1060932\n",
      "261879\n",
      "NaN\n",
      "239671\n",
      "NaN\n",
      "NaN\n",
      "NaN\n",
      "309946\n",
      "NaN\n",
      "85274\n",
      "247338\n",
      "349487\n",
      "330546\n",
      "NaN\n",
      "415189\n",
      "265214\n",
      "278601\n",
      "274975\n"
     ]
    }
   ],
   "source": [
    "# still learning how to work with dictionaries!\n",
    "dict_vals = data_dict.values()\n",
    "for v in dict_vals:\n",
    "    print(v[\"salary\"])\n",
    "#     for k in v.keys():\n",
    "        \n",
    "    "
   ]
  },
  {
   "cell_type": "code",
   "execution_count": 50,
   "metadata": {},
   "outputs": [
    {
     "name": "stdout",
     "output_type": "stream",
     "text": [
      "max: 34348384\n",
      "min: 3285\n"
     ]
    }
   ],
   "source": [
    "# learn about exercised_stock_options feature\n",
    "max = 1\n",
    "min = 999999999999\n",
    "\n",
    "for v in data_dict.values():\n",
    "        if v[\"exercised_stock_options\"] == \"NaN\":\n",
    "            continue\n",
    "\n",
    "        if int(v[\"exercised_stock_options\"]) > max:\n",
    "            max = int(v[\"exercised_stock_options\"])    \n",
    "        \n",
    "        if int(v[\"exercised_stock_options\"]) < min:\n",
    "            min = int(v[\"exercised_stock_options\"])\n",
    "        else:\n",
    "            continue\n",
    "    \n",
    "    \n",
    "#     for vv in v.values():\n",
    "#         print(\"v[\\\"exercised_stock_options\\\"]:\", v[\"exercised_stock_options\"])\n",
    "        \n",
    "\n",
    "print(\"max:\", max)\n",
    "print(\"min:\", min)"
   ]
  },
  {
   "cell_type": "code",
   "execution_count": 58,
   "metadata": {},
   "outputs": [
    {
     "name": "stdout",
     "output_type": "stream",
     "text": [
      "max_sal is now 365788\n",
      "max_sal is now 370448\n",
      "max_sal is now 374125\n",
      "max_sal is now 428780\n",
      "max_sal is now 510364\n",
      "max_sal is now 1072321\n",
      "max_sal is now 1111258\n",
      "max: 1111258\n",
      "min: 477\n"
     ]
    }
   ],
   "source": [
    "# learn about salary feature\n",
    "max_sal = 1\n",
    "min_sal = 999999999999\n",
    "\n",
    "for v in data_dict.values():\n",
    "#     print(v[\"salary\"])\n",
    "    \n",
    "    if v[\"salary\"] == \"NaN\":\n",
    "        continue\n",
    "\n",
    "    if int(v[\"salary\"]) > max_sal:\n",
    "        max_sal = int(v[\"salary\"])\n",
    "        print(\"max_sal is now\", max_sal)\n",
    "\n",
    "    if int(v[\"salary\"]) < min_sal:\n",
    "        min_sal = int(v[\"salary\"])\n",
    "    else:\n",
    "        continue\n",
    "\n",
    "    \n",
    "#     for vv in v.values():\n",
    "#         print(\"v[\\\"exercised_stock_options\\\"]:\", v[\"exercised_stock_options\"])\n",
    "        \n",
    "\n",
    "print(\"max:\", max_sal)\n",
    "print(\"min:\", min_sal)"
   ]
  },
  {
   "cell_type": "code",
   "execution_count": 88,
   "metadata": {},
   "outputs": [],
   "source": [
    "# now exploring feature rescaling on the data\n",
    "feature_1 = 'salary'\n",
    "feature_2 = 'exercised_stock_options'\n",
    "feature_3 = \"total_payments\"\n",
    "poi = 'poi'\n",
    "\n",
    "features_list = [feature_1, feature_2]\n",
    "data = feature_format(data_dict, features_list)\n",
    "from sklearn.preprocessing import MinMaxScaler\n",
    "scaler = MinMaxScaler()\n",
    "new_features = scaler.fit_transform(data)\n",
    "poi, finance_features = target_feature_split(new_features)"
   ]
  },
  {
   "cell_type": "code",
   "execution_count": 90,
   "metadata": {},
   "outputs": [
    {
     "name": "stdout",
     "output_type": "stream",
     "text": [
      "[[0.17997621 0.02911345]]\n"
     ]
    }
   ],
   "source": [
    "# calculate rescaled values for $200,000 salary and $1,000,000 exercised_stock_options\n",
    "scaler2 = MinMaxScaler()\n",
    "scaler2.fit(data)\n",
    "# print(scaler2.transform(data))\n",
    "\n",
    "print(scaler2.transform([[200000., 1000000.]]))\n"
   ]
  },
  {
   "cell_type": "code",
   "execution_count": 75,
   "metadata": {},
   "outputs": [
    {
     "data": {
      "image/png": "[encoded data removed]",
      "text/plain": [
       "<Figure size 432x288 with 1 Axes>"
      ]
     },
     "metadata": {
      "needs_background": "light"
     },
     "output_type": "display_data"
    }
   ],
   "source": [
    "for f1, f2 in finance_features:\n",
    "    plt.scatter(f1, f2)\n",
    "\n",
    "plt.show()"
   ]
  },
  {
   "cell_type": "code",
   "execution_count": 76,
   "metadata": {},
   "outputs": [],
   "source": [
    "from sklearn.cluster import KMeans\n",
    "clf = KMeans(n_clusters=2)\n",
    "clf.fit(data)\n",
    "pred = clf.predict(data)"
   ]
  },
  {
   "cell_type": "code",
   "execution_count": 77,
   "metadata": {},
   "outputs": [
    {
     "data": {
      "image/png": "[encoded data removed]",
      "text/plain": [
       "<Figure size 432x288 with 1 Axes>"
      ]
     },
     "metadata": {
      "needs_background": "light"
     },
     "output_type": "display_data"
    }
   ],
   "source": [
    "try:\n",
    "    draw(pred, finance_features, poi, mark_poi=False, name=\"rescaled_clusters.pdf\", f1_name=feature_1, f2_name=feature_2)\n",
    "except NameError:\n",
    "    print('No predictions object named pred found, no clusters to plot')"
   ]
  },
  {
   "cell_type": "code",
   "execution_count": null,
   "metadata": {},
   "outputs": [],
   "source": []
  }
 ],
 "metadata": {
  "kernelspec": {
   "display_name": "Python 3",
   "language": "python",
   "name": "python3"
  },
  "language_info": {
   "codemirror_mode": {
    "name": "ipython",
    "version": 3
   },
   "file_extension": ".py",
   "mimetype": "text/x-python",
   "name": "python",
   "nbconvert_exporter": "python",
   "pygments_lexer": "ipython3",
   "version": "3.7.6"
  }
 },
 "nbformat": 4,
 "nbformat_minor": 4
}
