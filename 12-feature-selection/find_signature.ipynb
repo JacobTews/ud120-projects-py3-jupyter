{
 "cells": [
  {
   "cell_type": "markdown",
   "metadata": {},
   "source": [
    "# Starter Code for the Lesson 12: Feature Selection"
   ]
  },
  {
   "cell_type": "code",
   "execution_count": 22,
   "metadata": {},
   "outputs": [],
   "source": [
    "import pickle\n",
    "\n",
    "import numpy\n",
    "from sklearn.model_selection import train_test_split\n",
    "from sklearn.feature_extraction.text import TfidfVectorizer\n",
    "\n",
    "numpy.random.seed(42)"
   ]
  },
  {
   "cell_type": "markdown",
   "metadata": {},
   "source": [
    "The words (features) and authors (labels), already largely processed.\n",
    "\n",
    "These files should have been created from the previous (Lesson 11) mini-project."
   ]
  },
  {
   "cell_type": "code",
   "execution_count": 29,
   "metadata": {},
   "outputs": [],
   "source": [
    "words_file = \"../11-text-learning/your_word_data.pkl\" \n",
    "authors_file = \"../11-text-learning/your_email_authors.pkl\"\n",
    "\n",
    "with open(words_file, \"rb\") as f:\n",
    "    word_data = pickle.load(f)\n",
    "       \n",
    "with open(authors_file, \"rb\") as f:\n",
    "    authors = pickle.load(f) "
   ]
  },
  {
   "cell_type": "markdown",
   "metadata": {},
   "source": [
    "`test_size` is the percentage of events assigned to the test set (the remainder go into training) feature matrices changed to dense representations for compatibility with classifier functions in versions 0.15.2 and earlier"
   ]
  },
  {
   "cell_type": "code",
   "execution_count": 34,
   "metadata": {},
   "outputs": [
    {
     "name": "stdout",
     "output_type": "stream",
     "text": [
      "houectect\n"
     ]
    }
   ],
   "source": [
    "features_train, features_test, labels_train, labels_test = train_test_split(word_data, authors, test_size=0.1, random_state=42)\n",
    "vectorizer = TfidfVectorizer(sublinear_tf=True, max_df=0.5, stop_words='english')\n",
    "vectorizer.fit(features_train)\n",
    "feature_names = vectorizer.get_feature_names()\n",
    "print(feature_names[21323])\n",
    "\n",
    "features_train = vectorizer.fit_transform(features_train)\n",
    "features_test  = vectorizer.transform(features_test).toarray()"
   ]
  },
  {
   "cell_type": "markdown",
   "metadata": {},
   "source": [
    "A classic way to overfit is to use a small number of data points and a large number of features;\n",
    "\n",
    "train on only 150 events to put ourselves in this regime:"
   ]
  },
  {
   "cell_type": "code",
   "execution_count": 31,
   "metadata": {},
   "outputs": [],
   "source": [
    "features_train = features_train[:150].toarray()\n",
    "labels_train = labels_train[:150]"
   ]
  },
  {
   "cell_type": "markdown",
   "metadata": {},
   "source": [
    "## ↓↓↓ Your Code Goes Here ↓↓↓"
   ]
  },
  {
   "cell_type": "code",
   "execution_count": 32,
   "metadata": {},
   "outputs": [
    {
     "name": "stdout",
     "output_type": "stream",
     "text": [
      "Accuracy Score: 0.8128555176336746\n"
     ]
    }
   ],
   "source": [
    "# get a decision tree up and running\n",
    "from sklearn.tree import DecisionTreeClassifier as DTC\n",
    "from sklearn.metrics import accuracy_score as acc_sco\n",
    "clf = DTC()\n",
    "clf.fit(features_train, labels_train)\n",
    "preds = clf.predict(features_test)\n",
    "\n",
    "print(\"Accuracy Score:\", acc_sco(labels_test, preds))"
   ]
  },
  {
   "cell_type": "code",
   "execution_count": 33,
   "metadata": {},
   "outputs": [
    {
     "name": "stdout",
     "output_type": "stream",
     "text": [
      "feature: 0.36363636363636365\n",
      "index: 21323\n"
     ]
    }
   ],
   "source": [
    "# learn about feature importance\n",
    "# print(clf.feature_importances_)\n",
    "for i, feat in enumerate(clf.feature_importances_):\n",
    "    if feat > 0.2:\n",
    "        print(\"feature:\", feat)\n",
    "        print(\"index:\", i)"
   ]
  },
  {
   "cell_type": "code",
   "execution_count": null,
   "metadata": {},
   "outputs": [],
   "source": []
  },
  {
   "cell_type": "code",
   "execution_count": null,
   "metadata": {},
   "outputs": [],
   "source": []
  }
 ],
 "metadata": {
  "kernelspec": {
   "display_name": "Python 3",
   "language": "python",
   "name": "python3"
  },
  "language_info": {
   "codemirror_mode": {
    "name": "ipython",
    "version": 3
   },
   "file_extension": ".py",
   "mimetype": "text/x-python",
   "name": "python",
   "nbconvert_exporter": "python",
   "pygments_lexer": "ipython3",
   "version": "3.7.6"
  }
 },
 "nbformat": 4,
 "nbformat_minor": 4
}
